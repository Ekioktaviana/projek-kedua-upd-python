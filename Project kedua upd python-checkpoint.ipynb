{
 "cells": [
  {
   "cell_type": "code",
   "execution_count": 1,
   "metadata": {},
   "outputs": [
    {
     "name": "stdout",
     "output_type": "stream",
     "text": [
      "****************************************\n",
      "Data Inputan\n",
      "NIS : 11800359\n",
      "Nama : Eki Oktaviana Rivaldi\n",
      "JK : L\n",
      "Rombel : RPL XI-3\n",
      "Rayon : Wikrama 5\n",
      "Masukkan nilai indo: 90\n",
      "Masukan nilai mtk: 80\n",
      "Masukan nilai inggris: 75\n",
      "***************************************\n",
      "Laporan Nilai Akhir Semester\n",
      "SMK Wikrama Bogor\n",
      "------Data Diri------\n",
      "11800359\n",
      "Eki Oktaviana Rivaldi\n",
      "L\n",
      "RPL XI-3\n",
      "Wikrama 5\n",
      "--------Nilai--------\n",
      "Bahasa Indonesia:  90\n",
      "Matematika :  80\n",
      "Bahasa Inggris:  75\n",
      "Rata-Rata Nilai :  81.66666666666667\n",
      "Kriteria Kelulusan : Lulus\n"
     ]
    }
   ],
   "source": [
    "print(\"*************************************************** \")\n",
    "print(\"Data Inputan\")\n",
    "nis = int(input(\"NIS : \"))\n",
    "nama = input(\"Nama : \")\n",
    "jk = input(\"JK : \")\n",
    "rombel = input(\"Rombel : \")\n",
    "rayon = input(\"Rayon : \")\n",
    "\n",
    "indo = int(input(\"Masukkan nilai indo: \"))\n",
    "mtk = int(input(\"Masukan nilai mtk: \"))\n",
    "inggris = int(input(\"Masukan nilai inggris: \"))\n",
    "rata = (indo + mtk + inggris ) / 3\n",
    "print(\"****************************************************\")\n",
    "print(\"Laporan Nilai Akhir Semester\")\n",
    "print(\"SMK Wikrama Bogor\")\n",
    "print(\"------Data Diri------\")\n",
    "print(nis)\n",
    "print(nama)\n",
    "print(jk)\n",
    "print(rombel)\n",
    "print(rayon)\n",
    "print(\"--------Nilai--------\")  \n",
    "print(\"Bahasa Indonesia: \",indo)\n",
    "print(\"Matematika : \",mtk)\n",
    "print(\"Bahasa Inggris: \",inggris)\n",
    "print (\"Rata-Rata Nilai : \",rata)\n",
    "if rata >= 75:\n",
    "    print(\"Kriteria Kelulusan : Lulus\")\n",
    "else:\n",
    "    print(\"Kriteria Kelulusan : Tidak Lulus\")"
   ]
  },
  {
   "cell_type": "code",
   "execution_count": null,
   "metadata": {},
   "outputs": [],
   "source": []
  }
 ],
 "metadata": {
  "kernelspec": {
   "display_name": "Python 3",
   "language": "python",
   "name": "python3"
  },
  "language_info": {
   "codemirror_mode": {
    "name": "ipython",
    "version": 3
   },
   "file_extension": ".py",
   "mimetype": "text/x-python",
   "name": "python",
   "nbconvert_exporter": "python",
   "pygments_lexer": "ipython3",
   "version": "3.7.1"
  }
 },
 "nbformat": 4,
 "nbformat_minor": 2
}
